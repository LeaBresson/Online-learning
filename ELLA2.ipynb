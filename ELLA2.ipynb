{
 "cells": [
  {
   "cell_type": "code",
   "execution_count": 11,
   "metadata": {},
   "outputs": [],
   "source": [
    "# imports:\n",
    "import numpy as np\n",
    "from sklearn.utils import check_array, extmath\n",
    "from sklearn.model_selection import RandomizedSearchCV\n",
    "from sklearn.linear_model import PassiveAggressiveRegressor\n",
    "from sklearn.model_selection import train_test_split\n",
    "import scipy.io as sio\n",
    "from sklearn.utils import shuffle\n",
    "import scipy as sp\n",
    "from ELLA import ELLA\n",
    "from sklearn.linear_model import Ridge, LinearRegression, LogisticRegression\n",
    "from scipy.linalg import norm\n",
    "import numpy as np\n",
    "from scipy.io import loadmat\n",
    "from sklearn.metrics import roc_auc_score\n",
    "import matplotlib.pyplot as plt"
   ]
  },
  {
   "cell_type": "code",
   "execution_count": 12,
   "metadata": {},
   "outputs": [],
   "source": [
    "PATH_data = 'example_data/'"
   ]
  },
  {
   "cell_type": "code",
   "execution_count": 13,
   "metadata": {},
   "outputs": [],
   "source": [
    "fullX=np.loadtxt(PATH_data + \"1repeat_%dtask_Xtrain.txt\"%(1))\n",
    "fullY=np.loadtxt(PATH_data + \"1repeat_%dtask_Ytrain.txt\"%(1))"
   ]
  },
  {
   "cell_type": "code",
   "execution_count": 4,
   "metadata": {},
   "outputs": [
    {
     "data": {
      "text/plain": [
       "((500, 25), (500,))"
      ]
     },
     "execution_count": 4,
     "metadata": {},
     "output_type": "execute_result"
    }
   ],
   "source": [
    "np.array(fullX).shape, np.array(fullY).shape "
   ]
  },
  {
   "cell_type": "code",
   "execution_count": 14,
   "metadata": {},
   "outputs": [],
   "source": [
    "def get_data_Leavire(task): \n",
    "    fullX=np.loadtxt(PATH_data + \"1repeat_%dtask_Xtrain.txt\"%(task))\n",
    "    fullY=np.loadtxt(PATH_data + \"1repeat_%dtask_Ytrain.txt\"%(task))\n",
    "    testX = np.loadtxt(PATH_data + \"1repeat_%dtask_Xtest.txt\"%(task))\n",
    "    testY = np.loadtxt(PATH_data + \"1repeat_%dtask_Ytest.txt\"%(task))\n",
    "    return [fullX, fullY, testX, testY]"
   ]
  },
  {
   "cell_type": "code",
   "execution_count": 44,
   "metadata": {},
   "outputs": [],
   "source": [
    "#dim = 25\n",
    "ntasks = 8 # nb de taches/produits \n",
    "data = []\n",
    "labels = []\n",
    "test_data = []\n",
    "test_labels = []\n",
    "    \n",
    "for i in np.arange(1, ntasks+1):\n",
    "    [fullX, fullY, testX, testY] = get_data_Leavire(i)\n",
    "    data.append(fullX)\n",
    "    labels.append(fullY)\n",
    "    test_data.append(testX)\n",
    "    test_labels.append(testY)"
   ]
  },
  {
   "cell_type": "code",
   "execution_count": 7,
   "metadata": {},
   "outputs": [
    {
     "data": {
      "text/plain": [
       "((8, 500, 25), (8, 500), (8, 100, 25), (8, 100))"
      ]
     },
     "execution_count": 7,
     "metadata": {},
     "output_type": "execute_result"
    }
   ],
   "source": [
    "np.array(data).shape, np.array(labels).shape,  np.array(test_data).shape, np.array(test_labels).shape "
   ]
  },
  {
   "cell_type": "markdown",
   "metadata": {},
   "source": [
    "#### Online Multi tache"
   ]
  },
  {
   "cell_type": "code",
   "execution_count": 45,
   "metadata": {},
   "outputs": [],
   "source": [
    "def multi_task_train_test_split(Xs,Ys,train_size=0.5):\n",
    "    Xs_train = []\n",
    "    Ys_train = []\n",
    "    Xs_test = []\n",
    "    Ys_test = []\n",
    "    for t in range(len(Xs)):\n",
    "        X_train, X_test, y_train, y_test = train_test_split(Xs[t], np.squeeze(Ys[t]), train_size=train_size)\n",
    "        Xs_train.append(X_train)\n",
    "        Xs_test.append(X_test)\n",
    "        Ys_train.append(y_train)\n",
    "        Ys_test.append(y_test)\n",
    "    return Xs_train, Xs_test, Ys_train, Ys_test"
   ]
  },
  {
   "cell_type": "code",
   "execution_count": 47,
   "metadata": {},
   "outputs": [
    {
     "name": "stdout",
     "output_type": "stream",
     "text": [
      "[[ 0.06336182  0.          0.          0.         -0.          0.00381675\n",
      "  -0.00607505 -0.02415788]\n",
      " [ 0.11041652  0.          0.          0.13464361 -0.03513807  0.04338136\n",
      "   0.01450154 -0.00295815]\n",
      " [ 0.28485572  0.59018209  0.42143619  0.27200463  0.38857781  0.28054583\n",
      "   0.29119391  0.37660644]\n",
      " [-0.00511405 -0.         -0.         -0.          0.         -0.\n",
      "  -0.         -0.        ]\n",
      " [-0.00544673 -0.         -0.         -0.          0.         -0.\n",
      "  -0.         -0.30494733]\n",
      " [ 0.18848319  0.          0.09849705  0.16336277 -0.05161076  0.02331687\n",
      "   0.02253345  0.00500433]\n",
      " [ 0.05993089  0.          0.          0.         -0.00216503  0.\n",
      "   0.02257212 -0.01917811]\n",
      " [ 0.06917947  0.          0.          0.         -0.05291463 -0.02656126\n",
      "  -0.03173663 -0.0265936 ]]\n",
      "Average AUC: 0.7103085509012765\n"
     ]
    },
    {
     "name": "stderr",
     "output_type": "stream",
     "text": [
      "C:\\Users\\Elvire\\Anaconda3\\lib\\site-packages\\sklearn\\model_selection\\_split.py:2026: FutureWarning: From version 0.21, test_size will always complement train_size unless both are specified.\n",
      "  FutureWarning)\n"
     ]
    }
   ],
   "source": [
    "T = len(data)\n",
    "Xs_lm = []\n",
    "Ys_lm = []\n",
    "for t in range(len(data)): #nb de taches\n",
    "    X_t = data[t]\n",
    "    Xs_lm.append(np.hstack((X_t,np.ones((X_t.shape[0],1)))))\n",
    "    label2 = labels[t].reshape(500,1) # 500 observations\n",
    "    Ys_lm.append(label2 == 1.0)\n",
    "    \n",
    "d = Xs_lm[0].shape[1]\n",
    "k = 8\n",
    "\n",
    "Xs_lm_train, Xs_lm_test, Ys_lm_train, Ys_lm_test = multi_task_train_test_split(Xs_lm,Ys_lm,train_size=0.5)\n",
    "\n",
    "model = ELLA(d,k,LogisticRegression,{'C':10**0},mu=1,lam=10**-5)\n",
    "for t in range(T):\n",
    "    model.fit(Xs_lm_train[t], Ys_lm_train[t], t)\n",
    "\n",
    "print(model.S )   \n",
    "\n",
    "print(\"Average AUC:\", np.mean([roc_auc_score(Ys_lm_test[t],model.predict_logprobs(Xs_lm_test[t], t))for t in range(1)]))"
   ]
  },
  {
   "cell_type": "code",
   "execution_count": 50,
   "metadata": {},
   "outputs": [
    {
     "name": "stdout",
     "output_type": "stream",
     "text": [
      "0\n",
      "1\n",
      "2\n",
      "3\n",
      "4\n",
      "5\n"
     ]
    },
    {
     "name": "stderr",
     "output_type": "stream",
     "text": [
      "C:\\Users\\Elvire\\Anaconda3\\lib\\site-packages\\sklearn\\linear_model\\coordinate_descent.py:491: ConvergenceWarning: Objective did not converge. You might want to increase the number of iterations. Fitting data with very small alpha may cause precision problems.\n",
      "  ConvergenceWarning)\n"
     ]
    },
    {
     "name": "stdout",
     "output_type": "stream",
     "text": [
      "6\n",
      "7\n",
      "8\n",
      "9\n",
      "10\n",
      "11\n",
      "12\n",
      "13\n",
      "14\n",
      "15\n",
      "16\n",
      "17\n",
      "18\n",
      "19\n"
     ]
    }
   ],
   "source": [
    "general_acc = []\n",
    "for i in range(20) : \n",
    "    print(i)\n",
    "    classif_accuracy = 0\n",
    "    #print(\"Average explained variance score\", np.mean([model.score(Xs_lm_test[t], Ys_lm_test[t], t) for t in range(T)]))\n",
    "    # Try out a classification problem\n",
    "    Ys_binarized_train = [Ys_lm_train[i] > 0 for i in range(T)]\n",
    "    Ys_binarized_test = [Ys_lm_test[i] > 0 for i in range(T)]\n",
    "\n",
    "    model = ELLA(d,k,LogisticRegression,mu=1,lam=10**-5)\n",
    "    for t in range(T):\n",
    "        model.fit(Xs_lm_train[t], Ys_binarized_train[t], t)\n",
    "\n",
    "    classif_accuracy = np.mean([model.score(Xs_lm_test[t], Ys_binarized_test[t], t) for t in range(T)])\n",
    "    general_acc.append(classif_accuracy)\n",
    "    i+1"
   ]
  },
  {
   "cell_type": "code",
   "execution_count": 51,
   "metadata": {},
   "outputs": [
    {
     "name": "stdout",
     "output_type": "stream",
     "text": [
      "0.739325\n",
      "[0.7375, 0.7384999999999999, 0.7384999999999999, 0.737, 0.742, 0.7404999999999999, 0.7384999999999999, 0.7395, 0.7395, 0.7384999999999999, 0.74, 0.741, 0.74, 0.735, 0.741, 0.7375, 0.7384999999999999, 0.7435, 0.7384999999999999, 0.7415]\n"
     ]
    }
   ],
   "source": [
    "print(np.mean(general_acc))\n",
    "print(general_acc)"
   ]
  }
 ],
 "metadata": {
  "kernelspec": {
   "display_name": "Python 3",
   "language": "python",
   "name": "python3"
  },
  "language_info": {
   "codemirror_mode": {
    "name": "ipython",
    "version": 3
   },
   "file_extension": ".py",
   "mimetype": "text/x-python",
   "name": "python",
   "nbconvert_exporter": "python",
   "pygments_lexer": "ipython3",
   "version": "3.6.4"
  }
 },
 "nbformat": 4,
 "nbformat_minor": 1
}
